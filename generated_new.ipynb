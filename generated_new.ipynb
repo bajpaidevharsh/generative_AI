{
  "metadata": {
    "kernelspec": {
      "display_name": "Python 3",
      "name": "python3"
    },
    "language_info": {
      "name": "python",
      "version": "3.10.13",
      "mimetype": "text/x-python",
      "codemirror_mode": {
        "name": "ipython",
        "version": 3
      },
      "pygments_lexer": "ipython3",
      "nbconvert_exporter": "python",
      "file_extension": ".py"
    },
    "kaggle": {
      "accelerator": "gpu",
      "dataSources": [],
      "dockerImageVersionId": 30747,
      "isInternetEnabled": true,
      "language": "python",
      "sourceType": "notebook",
      "isGpuEnabled": true
    },
    "colab": {
      "name": "notebookc41bb759ed",
      "provenance": [],
      "gpuType": "V28"
    },
    "accelerator": "TPU"
  },
  "nbformat_minor": 0,
  "nbformat": 4,
  "cells": [
    {
      "cell_type": "code",
      "source": [
        "# This Python 3 environment comes with many helpful analytics libraries installed\n",
        "# It is defined by the kaggle/python Docker image: https://github.com/kaggle/docker-python\n",
        "# For example, here's several helpful packages to load\n",
        "\n",
        "import numpy as np # linear algebra\n",
        "import pandas as pd # data processing, CSV file I/O (e.g. pd.read_csv)\n",
        "\n",
        "# Input data files are available in the read-only \"../input/\" directory\n",
        "# For example, running this (by clicking run or pressing Shift+Enter) will list all files under the input directory\n",
        "\n",
        "import os\n",
        "for dirname, _, filenames in os.walk('/kaggle/input'):\n",
        "    for filename in filenames:\n",
        "        print(os.path.join(dirname, filename))\n",
        "\n",
        "# You can write up to 20GB to the current directory (/kaggle/working/) that gets preserved as output when you create a version using \"Save & Run All\"\n",
        "# You can also write temporary files to /kaggle/temp/, but they won't be saved outside of the current session"
      ],
      "metadata": {
        "_uuid": "8f2839f25d086af736a60e9eeb907d3b93b6e0e5",
        "_cell_guid": "b1076dfc-b9ad-4769-8c92-a6c4dae69d19",
        "trusted": true,
        "id": "0q5XUvS93Blg"
      },
      "execution_count": null,
      "outputs": []
    },
    {
      "cell_type": "markdown",
      "source": [
        "**importing dependencies**"
      ],
      "metadata": {
        "id": "9R4Osl6yNmv-"
      }
    },
    {
      "cell_type": "code",
      "source": [
        "import numpy\n",
        "import matplotlib.pyplot\n",
        "import tensorflow\n",
        "import random"
      ],
      "metadata": {
        "execution": {
          "iopub.status.busy": "2024-07-18T16:54:04.99765Z",
          "iopub.execute_input": "2024-07-18T16:54:04.998896Z",
          "iopub.status.idle": "2024-07-18T16:54:05.005267Z",
          "shell.execute_reply.started": "2024-07-18T16:54:04.998853Z",
          "shell.execute_reply": "2024-07-18T16:54:05.004009Z"
        },
        "trusted": true,
        "id": "C2Tpe4Zn3Blp"
      },
      "execution_count": 48,
      "outputs": []
    },
    {
      "cell_type": "markdown",
      "source": [
        "**visualizing the fashion mnist data**"
      ],
      "metadata": {
        "id": "RCx4ZWSIOROG"
      }
    },
    {
      "cell_type": "code",
      "source": [
        "fashion_mnist = tensorflow.keras.datasets.fashion_mnist\n",
        "(x_train,ytrain), (xtest, ytest) = fashion_mnist.load_data()"
      ],
      "metadata": {
        "execution": {
          "iopub.status.busy": "2024-07-18T05:56:22.222023Z",
          "iopub.execute_input": "2024-07-18T05:56:22.222405Z",
          "iopub.status.idle": "2024-07-18T05:56:23.705464Z",
          "shell.execute_reply.started": "2024-07-18T05:56:22.222373Z",
          "shell.execute_reply": "2024-07-18T05:56:23.70469Z"
        },
        "trusted": true,
        "id": "E00_bTIZ3Blu"
      },
      "execution_count": 44,
      "outputs": []
    },
    {
      "cell_type": "code",
      "source": [
        "x_train.shape"
      ],
      "metadata": {
        "colab": {
          "base_uri": "https://localhost:8080/"
        },
        "id": "0qUW32-DE3wF",
        "outputId": "27fd5285-4662-471d-96c5-692d759df356"
      },
      "execution_count": 46,
      "outputs": [
        {
          "output_type": "execute_result",
          "data": {
            "text/plain": [
              "(60000, 28, 28)"
            ]
          },
          "metadata": {},
          "execution_count": 46
        }
      ]
    },
    {
      "cell_type": "code",
      "source": [
        "dev,harsh=matplotlib.pyplot.subplots()\n",
        "harsh.imshow(x_train[random.randint(0,60000)])"
      ],
      "metadata": {
        "colab": {
          "base_uri": "https://localhost:8080/",
          "height": 448
        },
        "id": "dUl86P55OYpH",
        "outputId": "bd9f6a23-2380-4814-f4eb-3655bf46d0c4"
      },
      "execution_count": 53,
      "outputs": [
        {
          "output_type": "execute_result",
          "data": {
            "text/plain": [
              "<matplotlib.image.AxesImage at 0x7ed04827d7b0>"
            ]
          },
          "metadata": {},
          "execution_count": 53
        },
        {
          "output_type": "display_data",
          "data": {
            "text/plain": [
              "<Figure size 640x480 with 1 Axes>"
            ],
            "image/png": "[encoded data removed]"
          },
          "metadata": {}
        }
      ]
    },
    {
      "cell_type": "code",
      "source": [
        "import tensorflow"
      ],
      "metadata": {
        "execution": {
          "iopub.status.busy": "2024-07-18T16:54:36.365133Z",
          "iopub.execute_input": "2024-07-18T16:54:36.366266Z",
          "iopub.status.idle": "2024-07-18T16:54:36.370764Z",
          "shell.execute_reply.started": "2024-07-18T16:54:36.366228Z",
          "shell.execute_reply": "2024-07-18T16:54:36.369655Z"
        },
        "trusted": true,
        "id": "MrW9FVCN3Blu"
      },
      "execution_count": 3,
      "outputs": []
    },
    {
      "cell_type": "markdown",
      "source": [
        "**making the generator**"
      ],
      "metadata": {
        "id": "Mk7pFH-_Pcqp"
      }
    },
    {
      "cell_type": "code",
      "source": [
        "generator = tf.keras.Sequential([\n",
        "    #input dimension as 7x7x256\n",
        "    tensorflow.keras.layers.Dense(7*7*256, input_shape=(128,)),\n",
        "    tensorflow.keras.layers.Reshape((7, 7, 256)),\n",
        "\n",
        "    tensorflow.keras.layers.Conv2D(128, 3, padding='same'),\n",
        "    tensorflow.keras.layers.LeakyReLU(alpha=0.2),\n",
        "\n",
        "    # upsample the image to 14x14x128\n",
        "    tensorflow.keras.layers.UpSampling2D(),\n",
        "\n",
        "    tensorflow.keras.layers.Conv2D(128, 3, padding='same'),  # Output shape: 14x14x128\n",
        "    tensorflow.keras.layers.LeakyReLU(alpha=0.2),\n",
        "\n",
        "    # Up-sample to 28x28x64\n",
        "    tensorflow.keras.layers.UpSampling2D(),\n",
        "\n",
        "    tensorflow.keras.layers.Conv2D(64, 3, padding='same'),\n",
        "    tensorflow.keras.layers.LeakyReLU(alpha=0.2),\n",
        "\n",
        "    tensorflow.keras.layers.Conv2D(1, 3, activation='sigmoid', padding='same')\n",
        "])"
      ],
      "metadata": {
        "execution": {
          "iopub.status.busy": "2024-07-18T16:54:40.526365Z",
          "iopub.execute_input": "2024-07-18T16:54:40.526779Z",
          "iopub.status.idle": "2024-07-18T16:54:40.807875Z",
          "shell.execute_reply.started": "2024-07-18T16:54:40.526749Z",
          "shell.execute_reply": "2024-07-18T16:54:40.806855Z"
        },
        "trusted": true,
        "id": "d5878MWh3Blv"
      },
      "execution_count": 4,
      "outputs": []
    },
    {
      "cell_type": "markdown",
      "source": [
        "**initial prediction from generator without training**"
      ],
      "metadata": {
        "id": "dVZyP_PEQQrJ"
      }
    },
    {
      "cell_type": "code",
      "source": [
        "w=generator.predict(tensorflow.random.normal(shape=(4,128)))"
      ],
      "metadata": {
        "execution": {
          "iopub.status.busy": "2024-07-18T16:54:45.149311Z",
          "iopub.execute_input": "2024-07-18T16:54:45.1497Z",
          "iopub.status.idle": "2024-07-18T16:54:47.268089Z",
          "shell.execute_reply.started": "2024-07-18T16:54:45.149671Z",
          "shell.execute_reply": "2024-07-18T16:54:47.267042Z"
        },
        "trusted": true,
        "colab": {
          "base_uri": "https://localhost:8080/"
        },
        "id": "ymXAvzOa3Blw",
        "outputId": "b8f9c7f6-4100-4fd9-d650-2f785619c121"
      },
      "execution_count": 5,
      "outputs": [
        {
          "output_type": "stream",
          "name": "stdout",
          "text": [
            "1/1 [==============================] - 0s 205ms/step\n"
          ]
        }
      ]
    },
    {
      "cell_type": "code",
      "source": [
        "w.shape"
      ],
      "metadata": {
        "execution": {
          "iopub.status.busy": "2024-07-18T16:54:51.393123Z",
          "iopub.execute_input": "2024-07-18T16:54:51.39396Z",
          "iopub.status.idle": "2024-07-18T16:54:51.401648Z",
          "shell.execute_reply.started": "2024-07-18T16:54:51.393929Z",
          "shell.execute_reply": "2024-07-18T16:54:51.40059Z"
        },
        "trusted": true,
        "colab": {
          "base_uri": "https://localhost:8080/"
        },
        "id": "W1ZJvp_o3Blx",
        "outputId": "237a4351-5bc3-4145-a0b8-60277bbf806e"
      },
      "execution_count": 6,
      "outputs": [
        {
          "output_type": "execute_result",
          "data": {
            "text/plain": [
              "(4, 28, 28, 1)"
            ]
          },
          "metadata": {},
          "execution_count": 6
        }
      ]
    },
    {
      "cell_type": "code",
      "source": [
        "tensorflow.random.normal(shape=(4,128))"
      ],
      "metadata": {
        "execution": {
          "iopub.status.busy": "2024-07-18T16:54:53.810166Z",
          "iopub.execute_input": "2024-07-18T16:54:53.810817Z",
          "iopub.status.idle": "2024-07-18T16:54:53.827905Z",
          "shell.execute_reply.started": "2024-07-18T16:54:53.810782Z",
          "shell.execute_reply": "2024-07-18T16:54:53.826908Z"
        },
        "trusted": true,
        "id": "IHvQ4OLY3Bly",
        "outputId": "1252efea-eecc-4ef3-95e0-887672666bcd"
      },
      "execution_count": null,
      "outputs": [
        {
          "execution_count": 9,
          "output_type": "execute_result",
          "data": {
            "text/plain": "<tf.Tensor: shape=(4, 128), dtype=float32, numpy=\narray([[ 2.20212579e-01, -1.18502855e+00, -3.17322277e-02,\n         1.65164244e+00,  1.31032169e+00,  1.72408736e+00,\n         1.94526947e+00,  1.03904510e+00,  9.95868087e-01,\n         1.31797290e+00, -2.27579737e+00, -7.03307800e-03,\n        -2.79419351e+00,  2.21117997e+00, -2.05427751e-01,\n        -1.59366143e+00, -1.20108497e+00, -6.75325096e-02,\n         1.60840642e+00, -5.48992157e-01, -1.17939484e+00,\n        -1.15934384e+00, -4.17499356e-02, -1.05612755e+00,\n         2.28877544e-01,  2.83670044e+00, -9.87565875e-01,\n         9.79071200e-01, -4.91853982e-01,  1.05418253e+00,\n        -6.22515023e-01,  3.48207414e-01, -8.25281888e-02,\n         1.31425470e-01,  1.69483840e+00,  9.27576065e-01,\n         1.30257547e-01, -1.10637814e-01,  8.82515490e-01,\n        -1.12993300e+00,  1.28450239e+00, -4.87839758e-01,\n         8.67413163e-01, -4.46394563e-01, -5.56932926e-01,\n        -2.21065044e-01, -1.46356440e+00,  5.44778526e-01,\n        -2.61482745e-01,  5.39550066e-01, -4.07992631e-01,\n         8.87218952e-01, -3.04478347e-01, -1.75153530e+00,\n        -4.15383786e-01,  1.23431993e+00, -1.97793961e+00,\n         6.31932139e-01,  2.14261115e-01, -1.10552537e+00,\n        -3.93149741e-02,  6.60049736e-01, -1.76585376e+00,\n         8.96981359e-01, -1.02179706e+00,  1.57533503e+00,\n        -1.58169913e+00,  1.11870790e+00, -7.09159195e-01,\n        -3.78783047e-01,  1.54520774e+00,  4.38409060e-01,\n         1.00811434e+00,  5.42815290e-02, -1.35235858e+00,\n         8.03178787e-01,  3.22855741e-01, -5.56198359e-01,\n         1.09546185e-01,  3.33403528e-01, -1.29190397e+00,\n        -6.34664536e-01, -1.54064262e+00,  1.65312338e+00,\n        -1.89457148e-01, -7.42591500e-01,  1.42911959e+00,\n         1.15186322e+00,  2.30074614e-01,  6.53060257e-01,\n         9.80349258e-02,  1.54365778e-01, -5.78621924e-01,\n        -7.03748167e-01, -3.51882093e-02,  4.08109248e-01,\n         3.70831698e-01, -5.74408889e-01, -1.29290009e+00,\n         3.48042250e-01, -8.03800941e-01, -1.22999895e+00,\n        -2.27399111e-01,  5.31378806e-01,  1.86599970e+00,\n         7.43355691e-01, -4.62978005e-01,  1.46372414e+00,\n        -3.03621858e-01,  2.36574006e+00,  1.97665498e-01,\n        -8.03731620e-01,  1.79050660e+00,  1.29352558e+00,\n        -4.09278810e-01, -2.92652935e-01,  5.14171720e-01,\n         7.10661829e-01,  7.24313498e-01, -6.79482818e-01,\n         5.36874533e-01,  4.19857144e-01,  1.78585559e-01,\n        -8.86701107e-01, -3.38169038e-01,  1.39411247e+00,\n         3.77760828e-01,  6.35984957e-01],\n       [ 5.98833919e-01,  2.48239183e+00,  1.29341388e+00,\n        -6.39761686e-01, -2.81594574e-01, -3.86702657e-01,\n         7.47885644e-01,  1.14697599e+00,  4.92529422e-01,\n        -1.10791028e+00,  2.64534974e+00, -5.19750714e-01,\n        -2.26142108e-01, -6.96804404e-01,  1.52626026e+00,\n        -5.83822727e-01,  1.08757794e+00, -5.65419972e-01,\n         1.40814948e+00, -2.02388003e-01,  1.47120202e+00,\n         6.52739033e-02, -5.07751465e-01, -9.32360649e-01,\n         1.59451604e+00, -7.70936310e-01, -1.18614423e+00,\n         6.32560849e-01,  1.39630616e+00, -2.83736050e-01,\n         5.62406480e-01, -6.34371221e-01, -5.97345352e-01,\n         1.09266341e+00,  3.28890175e-01,  1.11523785e-01,\n        -2.14059442e-01,  1.64681196e+00,  1.61129284e+00,\n         3.72927010e-01, -8.45570147e-01, -3.99815515e-02,\n         2.05793524e+00,  1.26993760e-01,  3.14345926e-01,\n         2.07158351e+00,  6.04362965e-01, -1.02034472e-01,\n         3.41113567e-01,  7.06481397e-01, -1.75272167e-01,\n        -2.63635325e+00,  5.22284925e-01, -4.46163923e-01,\n         8.89747322e-01, -5.47214270e-01,  5.69888890e-01,\n        -1.33902982e-01, -1.85217881e+00, -1.15170205e+00,\n        -1.78452611e+00,  7.07885146e-01,  4.91063684e-01,\n         1.18291557e+00,  9.85816598e-01, -1.31793904e+00,\n         9.39589679e-01, -7.92820334e-01, -6.37681007e-01,\n        -4.69069570e-01,  3.50190192e-01,  1.71792936e-02,\n         7.99347758e-01,  7.10305393e-01,  1.37954378e+00,\n         4.98000354e-01, -1.53910422e+00, -4.90155876e-01,\n         1.24217957e-01,  6.25695765e-01,  1.54406631e+00,\n        -5.66858411e-01, -1.45932436e+00, -1.35550678e+00,\n        -1.52842784e+00,  1.63951039e+00, -1.44064295e+00,\n        -1.58776832e+00,  1.18279350e+00,  1.10829942e-01,\n        -6.69812143e-01,  1.76949537e+00,  1.17937855e-01,\n        -6.39515758e-01,  5.81366897e-01, -6.17869258e-01,\n         1.02396929e+00,  1.38789940e+00,  4.59561735e-01,\n         1.54912053e-02,  3.09999734e-01,  1.16245437e+00,\n        -6.09236479e-01,  2.05931425e+00, -6.03911638e-01,\n         6.90471172e-01,  7.31039762e-01,  3.06505114e-01,\n         1.19836545e+00,  1.18547738e+00,  6.86477125e-01,\n         3.88014197e-01,  1.27628434e+00, -8.09036672e-01,\n        -5.78813314e-01, -1.35554302e+00, -8.59794259e-01,\n         3.68841171e-01, -9.32502031e-01, -3.58523265e-03,\n         1.97949242e-02, -1.34723163e+00,  7.56480515e-01,\n        -2.34261096e-01, -1.17942798e+00, -1.27897203e+00,\n        -2.09199905e+00,  8.00978720e-01],\n       [-5.01265228e-01,  3.00362736e-01, -2.66968250e-01,\n         1.75086272e+00,  1.52366444e-01,  1.21326721e+00,\n        -4.59480822e-01,  1.12059879e+00,  7.71841347e-01,\n        -4.75439161e-01,  7.68180415e-02, -8.04450929e-01,\n        -1.37523162e+00,  2.32243419e-01,  1.46565700e+00,\n        -1.24505413e+00,  8.36214781e-01, -3.19250226e-01,\n         2.12424779e+00,  3.10420632e-01,  1.26663551e-01,\n        -1.60215199e+00,  3.10281664e-01, -1.50797558e+00,\n        -2.99844980e+00, -4.08121884e-01, -2.66481376e+00,\n        -5.78126013e-01, -1.72460091e+00,  1.93313432e+00,\n         1.16363859e+00, -6.51683390e-01,  4.57442194e-01,\n        -5.65178752e-01,  8.33206117e-01,  1.13793302e+00,\n        -4.93890673e-01,  4.52839702e-01,  7.07700327e-02,\n        -1.25042279e-03,  8.97139981e-02, -7.46723592e-01,\n        -1.28826392e+00,  2.97638702e+00, -2.84817398e-01,\n        -6.28579915e-01,  9.00311291e-01,  1.97829831e+00,\n         8.45656097e-01, -1.66132891e+00,  6.00435197e-01,\n         1.04654658e+00,  7.62568653e-01, -7.35410810e-01,\n        -7.72410154e-01, -2.63890862e+00, -1.98069012e+00,\n         7.04207480e-01, -1.48260927e+00, -2.38669221e-03,\n         1.73609936e+00, -3.94283533e-01,  1.26173031e+00,\n        -3.76020670e+00, -3.51044583e+00,  1.77559674e+00,\n        -1.20323741e+00, -3.32597399e+00,  1.00325418e+00,\n        -9.41606760e-01, -1.77606308e+00, -5.26206791e-01,\n         9.80257988e-01,  1.11746538e+00,  2.03782916e+00,\n         3.91214252e-01, -2.03359580e+00,  3.33905786e-01,\n        -8.55512202e-01, -5.76569617e-01, -4.73920763e-01,\n        -2.16573882e+00, -9.32764947e-01,  3.80922079e-01,\n         3.48960340e-01, -8.03395510e-01, -1.73135996e+00,\n        -6.74505949e-01,  3.50029200e-01,  8.05430710e-02,\n        -6.94157779e-01,  2.13989043e+00,  1.88183510e+00,\n        -8.44399214e-01,  9.04052258e-01, -1.53630102e+00,\n        -5.90864122e-01, -1.82139599e+00,  4.92840618e-01,\n        -3.23805586e-02, -1.54216275e-01,  1.14727154e-01,\n         8.45958292e-01,  6.14206672e-01,  1.46781671e+00,\n         1.44670653e+00,  7.26775467e-01, -6.10999882e-01,\n         5.92126191e-01,  6.30554974e-01,  7.99234025e-03,\n         1.07088351e+00,  3.82731378e-01,  1.11744869e+00,\n         7.23916888e-01, -9.45638120e-02, -5.67408323e-01,\n         1.09967268e+00,  1.44751585e+00,  3.82778406e-01,\n        -9.22079310e-02,  2.07367110e+00, -3.23144287e-01,\n         1.39909840e+00, -5.08816183e-01,  1.57885063e+00,\n         1.83586761e-01, -4.90835249e-01],\n       [-8.40139210e-01, -1.41831934e+00, -7.58378357e-02,\n        -1.00335598e+00, -4.74943817e-01, -1.00905895e+00,\n        -2.49192864e-01,  6.69304550e-01, -2.79371291e-01,\n        -1.10398865e+00,  6.19749963e-01, -8.68386507e-01,\n         1.35654524e-01, -1.92182194e-02, -1.60685927e-01,\n         6.07451737e-01,  2.25974545e-01, -7.57533431e-01,\n         1.85639530e-01, -1.71660423e+00, -1.47757292e-01,\n         8.14090967e-01, -8.65846634e-01, -5.51233292e-01,\n         7.00008929e-01, -1.17710483e+00, -3.08598101e-01,\n        -4.58878696e-01, -4.32444334e-01, -5.33002317e-01,\n        -1.95459974e+00, -3.48275572e-01,  1.43961883e+00,\n        -1.13983643e+00,  1.05837369e+00, -7.68182635e-01,\n        -7.64591515e-01, -9.24461961e-01,  7.82259822e-01,\n         7.25622028e-02,  9.22250969e-04,  1.40395537e-01,\n         2.14230800e+00, -1.74774602e-01, -7.49578595e-01,\n         1.73188400e+00,  1.52306378e-01, -1.26408994e+00,\n         1.13602364e+00,  1.03397024e+00,  2.06684637e+00,\n        -8.99681330e-01,  3.69382650e-01,  7.41614819e-01,\n        -5.18514276e-01, -1.54597366e+00, -9.66804981e-01,\n        -4.17513363e-02,  7.38339305e-01,  1.04915392e+00,\n         1.87115169e+00, -2.33488894e+00,  6.31184578e-01,\n        -9.77110624e-01,  5.64233184e-01, -3.85965586e-01,\n         1.54611444e+00, -7.21070588e-01, -6.03527308e-01,\n         1.51335776e+00, -5.17787874e-01, -3.04699391e-01,\n         1.46765113e+00, -5.16537905e-01,  4.24217373e-01,\n         1.23597932e+00, -6.37710035e-01, -1.32999408e+00,\n         1.09169376e+00,  2.86383241e-01, -4.73449856e-01,\n        -5.32157123e-01, -4.83588785e-01,  2.43332505e+00,\n        -1.77700192e-01, -8.49271238e-01,  7.39054918e-01,\n        -1.38482714e+00, -1.22449815e+00,  1.79058886e+00,\n         8.08104515e-01, -7.07197666e-01,  3.29276502e-01,\n        -6.09769393e-03, -6.94851670e-03,  1.75489664e+00,\n         5.65084577e-01,  9.12518144e-01, -5.79508424e-01,\n         5.28576076e-01,  2.14414835e-01,  6.30809963e-01,\n        -6.40209913e-01, -4.74756122e-01,  1.08539796e+00,\n         1.36890876e+00,  1.71274948e+00,  6.72820807e-01,\n         9.39174816e-02,  7.14642525e-01, -1.30164826e+00,\n         2.43076310e-01,  1.27454329e+00,  3.53295386e-01,\n        -6.39204010e-02, -7.73280501e-01,  1.66546237e+00,\n        -1.35112748e-01,  4.09621865e-01, -2.53372818e-01,\n         1.43925297e+00, -3.55802178e-01, -1.70493528e-01,\n        -1.90209687e+00,  2.85303265e-01, -1.46784961e+00,\n         1.32227218e+00,  1.41223657e+00]], dtype=float32)>"
          },
          "metadata": {}
        }
      ]
    },
    {
      "cell_type": "code",
      "source": [
        "dev,harsh=matplotlib.pyplot.subplots()\n",
        "harsh.imshow(numpy.squeeze(w[1]))"
      ],
      "metadata": {
        "execution": {
          "iopub.status.busy": "2024-07-18T16:55:03.993717Z",
          "iopub.execute_input": "2024-07-18T16:55:03.994504Z",
          "iopub.status.idle": "2024-07-18T16:55:04.287886Z",
          "shell.execute_reply.started": "2024-07-18T16:55:03.994466Z",
          "shell.execute_reply": "2024-07-18T16:55:04.286768Z"
        },
        "trusted": true,
        "colab": {
          "base_uri": "https://localhost:8080/",
          "height": 448
        },
        "id": "dfryIJs_3Bl0",
        "outputId": "536d2a7b-10ab-4732-c47b-af9223b638f3"
      },
      "execution_count": 7,
      "outputs": [
        {
          "output_type": "execute_result",
          "data": {
            "text/plain": [
              "<matplotlib.image.AxesImage at 0x7ed9316cf250>"
            ]
          },
          "metadata": {},
          "execution_count": 7
        },
        {
          "output_type": "display_data",
          "data": {
            "text/plain": [
              "<Figure size 640x480 with 1 Axes>"
            ],
            "image/png": "[encoded data removed]"
          },
          "metadata": {}
        }
      ]
    },
    {
      "cell_type": "code",
      "source": [
        "generator.summary()"
      ],
      "metadata": {
        "execution": {
          "iopub.status.busy": "2024-07-18T16:55:55.899049Z",
          "iopub.execute_input": "2024-07-18T16:55:55.899478Z",
          "iopub.status.idle": "2024-07-18T16:55:55.93139Z",
          "shell.execute_reply.started": "2024-07-18T16:55:55.899445Z",
          "shell.execute_reply": "2024-07-18T16:55:55.930333Z"
        },
        "trusted": true,
        "colab": {
          "base_uri": "https://localhost:8080/"
        },
        "id": "-mCjEtb63Bl0",
        "outputId": "dce59a24-64f1-4524-8795-e44f616f0322"
      },
      "execution_count": 8,
      "outputs": [
        {
          "output_type": "stream",
          "name": "stdout",
          "text": [
            "Model: \"sequential\"\n",
            "_________________________________________________________________\n",
            " Layer (type)                Output Shape              Param #   \n",
            "=================================================================\n",
            " dense (Dense)               (None, 12544)             1618176   \n",
            "                                                                 \n",
            " reshape (Reshape)           (None, 7, 7, 256)         0         \n",
            "                                                                 \n",
            " conv2d (Conv2D)             (None, 7, 7, 128)         295040    \n",
            "                                                                 \n",
            " leaky_re_lu (LeakyReLU)     (None, 7, 7, 128)         0         \n",
            "                                                                 \n",
            " up_sampling2d (UpSampling2  (None, 14, 14, 128)       0         \n",
            " D)                                                              \n",
            "                                                                 \n",
            " conv2d_1 (Conv2D)           (None, 14, 14, 128)       147584    \n",
            "                                                                 \n",
            " leaky_re_lu_1 (LeakyReLU)   (None, 14, 14, 128)       0         \n",
            "                                                                 \n",
            " up_sampling2d_1 (UpSamplin  (None, 28, 28, 128)       0         \n",
            " g2D)                                                            \n",
            "                                                                 \n",
            " conv2d_2 (Conv2D)           (None, 28, 28, 64)        73792     \n",
            "                                                                 \n",
            " leaky_re_lu_2 (LeakyReLU)   (None, 28, 28, 64)        0         \n",
            "                                                                 \n",
            " conv2d_3 (Conv2D)           (None, 28, 28, 1)         577       \n",
            "                                                                 \n",
            "=================================================================\n",
            "Total params: 2135169 (8.15 MB)\n",
            "Trainable params: 2135169 (8.15 MB)\n",
            "Non-trainable params: 0 (0.00 Byte)\n",
            "_________________________________________________________________\n"
          ]
        }
      ]
    },
    {
      "cell_type": "markdown",
      "source": [
        "**making the discriminator**"
      ],
      "metadata": {
        "id": "K1iO61-YQbOf"
      }
    },
    {
      "cell_type": "code",
      "source": [
        "discriminator=tensorflow.keras.Sequential([\n",
        "    tensorflow.keras.layers.Conv2D(64,3,padding='same'),\n",
        "    tensorflow.keras.layers.LeakyReLU(alpha=0.2),\n",
        "    tensorflow.keras.layers.BatchNormalization(),\n",
        "\n",
        "    tensorflow.keras.layers.Conv2D(64,3,padding='same'),\n",
        "    tensorflow.keras.layers.LeakyReLU(alpha=0.2),\n",
        "    tensorflow.keras.layers.BatchNormalization(),\n",
        "\n",
        "    tensorflow.keras.layers.Conv2D(64,3,padding='same'),\n",
        "    tensorflow.keras.layers.LeakyReLU(alpha=0.2),\n",
        "    tensorflow.keras.layers.BatchNormalization(),\n",
        "    tensorflow.keras.layers.Flatten(),\n",
        "    tensorflow.keras.layers.Dense(1,activation='sigmoid')\n",
        "])"
      ],
      "metadata": {
        "execution": {
          "iopub.status.busy": "2024-07-18T16:55:59.4085Z",
          "iopub.execute_input": "2024-07-18T16:55:59.408915Z",
          "iopub.status.idle": "2024-07-18T16:55:59.429824Z",
          "shell.execute_reply.started": "2024-07-18T16:55:59.408882Z",
          "shell.execute_reply": "2024-07-18T16:55:59.428553Z"
        },
        "trusted": true,
        "id": "BFJ0uxbd3Bl1"
      },
      "execution_count": 9,
      "outputs": []
    },
    {
      "cell_type": "code",
      "source": [
        "discriminator.compile(optimizer=tensorflow.keras.optimizers.Adam(learning_rate=0.0001),loss=tensorflow.keras.losses.BinaryCrossentropy())"
      ],
      "metadata": {
        "execution": {
          "iopub.status.busy": "2024-07-18T16:56:03.058932Z",
          "iopub.execute_input": "2024-07-18T16:56:03.059681Z",
          "iopub.status.idle": "2024-07-18T16:56:03.076257Z",
          "shell.execute_reply.started": "2024-07-18T16:56:03.059647Z",
          "shell.execute_reply": "2024-07-18T16:56:03.075188Z"
        },
        "trusted": true,
        "id": "Yg85dEB23Bl2"
      },
      "execution_count": 10,
      "outputs": []
    },
    {
      "cell_type": "code",
      "source": [],
      "metadata": {
        "execution": {
          "iopub.status.busy": "2024-07-18T16:56:06.224844Z",
          "iopub.execute_input": "2024-07-18T16:56:06.225927Z",
          "iopub.status.idle": "2024-07-18T16:56:06.249639Z",
          "shell.execute_reply.started": "2024-07-18T16:56:06.225893Z",
          "shell.execute_reply": "2024-07-18T16:56:06.248714Z"
        },
        "trusted": true,
        "id": "wJ_wjIMj3Bl2"
      },
      "execution_count": 53,
      "outputs": []
    },
    {
      "cell_type": "markdown",
      "source": [
        "**combining the generator and discriminator to a single sequential model**"
      ],
      "metadata": {
        "id": "38crkEyYQhc4"
      }
    },
    {
      "cell_type": "code",
      "source": [
        "gan=tensorflow.keras.Sequential([generator,discriminator])"
      ],
      "metadata": {
        "execution": {
          "iopub.status.busy": "2024-07-18T16:56:09.721072Z",
          "iopub.execute_input": "2024-07-18T16:56:09.72189Z",
          "iopub.status.idle": "2024-07-18T16:56:09.727591Z",
          "shell.execute_reply.started": "2024-07-18T16:56:09.721855Z",
          "shell.execute_reply": "2024-07-18T16:56:09.726486Z"
        },
        "trusted": true,
        "id": "5X50ktJ23Bl2"
      },
      "execution_count": 12,
      "outputs": []
    },
    {
      "cell_type": "code",
      "source": [
        "gan.compile(optimizer=tensorflow.keras.optimizers.Adam(),loss=tensorflow.keras.losses.BinaryCrossentropy())"
      ],
      "metadata": {
        "execution": {
          "iopub.status.busy": "2024-07-18T16:56:12.592354Z",
          "iopub.execute_input": "2024-07-18T16:56:12.592778Z",
          "iopub.status.idle": "2024-07-18T16:56:12.604529Z",
          "shell.execute_reply.started": "2024-07-18T16:56:12.592744Z",
          "shell.execute_reply": "2024-07-18T16:56:12.603339Z"
        },
        "trusted": true,
        "id": "juggjbp53Bl3"
      },
      "execution_count": 13,
      "outputs": []
    },
    {
      "cell_type": "markdown",
      "source": [
        "**the generator layer**"
      ],
      "metadata": {
        "id": "9js1D-8pQqvR"
      }
    },
    {
      "cell_type": "code",
      "source": [
        "gan.layers[0]"
      ],
      "metadata": {
        "execution": {
          "iopub.status.busy": "2024-07-18T16:56:16.961385Z",
          "iopub.execute_input": "2024-07-18T16:56:16.961806Z",
          "iopub.status.idle": "2024-07-18T16:56:16.969012Z",
          "shell.execute_reply.started": "2024-07-18T16:56:16.961774Z",
          "shell.execute_reply": "2024-07-18T16:56:16.967751Z"
        },
        "trusted": true,
        "colab": {
          "base_uri": "https://localhost:8080/"
        },
        "id": "5v7o-qcN3Bl3",
        "outputId": "245fc868-0ede-4d2a-aab6-36bf8448061e"
      },
      "execution_count": 27,
      "outputs": [
        {
          "output_type": "execute_result",
          "data": {
            "text/plain": [
              "<keras.src.engine.sequential.Sequential at 0x7b6a5ba52440>"
            ]
          },
          "metadata": {},
          "execution_count": 27
        }
      ]
    },
    {
      "cell_type": "markdown",
      "source": [
        "**the discriminator layer**"
      ],
      "metadata": {
        "id": "fhjBBZLvQwi4"
      }
    },
    {
      "cell_type": "code",
      "source": [
        "gan.layers[1]"
      ],
      "metadata": {
        "execution": {
          "iopub.status.busy": "2024-07-18T16:56:19.841065Z",
          "iopub.execute_input": "2024-07-18T16:56:19.841408Z",
          "iopub.status.idle": "2024-07-18T16:56:19.84832Z",
          "shell.execute_reply.started": "2024-07-18T16:56:19.841381Z",
          "shell.execute_reply": "2024-07-18T16:56:19.847238Z"
        },
        "trusted": true,
        "colab": {
          "base_uri": "https://localhost:8080/"
        },
        "id": "-kBr_Vlv3Bl4",
        "outputId": "e851436b-05ba-4a85-c5be-afed8e460ce2"
      },
      "execution_count": 28,
      "outputs": [
        {
          "output_type": "execute_result",
          "data": {
            "text/plain": [
              "<keras.src.engine.sequential.Sequential at 0x7b6a44a44ee0>"
            ]
          },
          "metadata": {},
          "execution_count": 28
        }
      ]
    },
    {
      "cell_type": "markdown",
      "source": [
        "**importing the tqdm for moinitoring the progress of training**"
      ],
      "metadata": {
        "id": "_DcBTQY8Q1HX"
      }
    },
    {
      "cell_type": "code",
      "source": [
        "from tqdm import tqdm"
      ],
      "metadata": {
        "execution": {
          "iopub.status.busy": "2024-07-18T16:56:21.913349Z",
          "iopub.execute_input": "2024-07-18T16:56:21.913777Z",
          "iopub.status.idle": "2024-07-18T16:56:21.92553Z",
          "shell.execute_reply.started": "2024-07-18T16:56:21.913722Z",
          "shell.execute_reply": "2024-07-18T16:56:21.924285Z"
        },
        "trusted": true,
        "id": "B1K8hLrS3Bl4"
      },
      "execution_count": 16,
      "outputs": []
    },
    {
      "cell_type": "markdown",
      "source": [
        "**making the training function**"
      ],
      "metadata": {
        "id": "ZNP8Ae2YRAVL"
      }
    },
    {
      "cell_type": "code",
      "source": [
        "def train_gan(model,dataset,epochs,noise_size,batch_size):\n",
        "\n",
        "    #extracting the generator\n",
        "    generator=gan.layers[0]\n",
        "\n",
        "\n",
        "    #extracting the discriminator\n",
        "    discriminator=gan.layers[1]\n",
        "\n",
        "    for epoch in range(epochs):\n",
        "\n",
        "        print(f'running {epoch} / {epochs}')\n",
        "\n",
        "        for steps,X_batch in enumerate(tqdm(dataset)):\n",
        "\n",
        "            #generating the fake images from generator\n",
        "\n",
        "            fake=generator(tensorflow.random.normal(shape=[batch_size,noise_size]))\n",
        "\n",
        "            Train=tensorflow.concat([X_batch,fake],axis=0)\n",
        "\n",
        "            label_real = tensorflow.ones((batch_size, 1))\n",
        "            label_fake = tensorflow.zeros((batch_size, 1))\n",
        "\n",
        "            label=tensorflow.concat([label_real, label_fake],axis=0)\n",
        "\n",
        "            discriminator.traniable=True\n",
        "            d_loss=discriminator.train_on_batch(Train,label)\n",
        "            noise = tf.random.normal(shape=[batch_size, noise_size])\n",
        "            y2=tensorflow.concat([[1]]*batch_size,axis=0)\n",
        "            discriminator.trainable=False\n",
        "            g_loss=gan.train_on_batch(noise,y2)\n",
        "\n",
        "            if steps % 100==0:\n",
        "                print(f'step{steps} generator_loss{g_loss} discriminator_loss{g_loss}')\n",
        "        print(f\"Epoch {epoch+1} completed: d_loss={d_loss}, g_loss={g_loss}\")"
      ],
      "metadata": {
        "execution": {
          "iopub.status.busy": "2024-07-18T17:19:00.258602Z",
          "iopub.execute_input": "2024-07-18T17:19:00.259569Z",
          "iopub.status.idle": "2024-07-18T17:19:00.269313Z",
          "shell.execute_reply.started": "2024-07-18T17:19:00.259531Z",
          "shell.execute_reply": "2024-07-18T17:19:00.268219Z"
        },
        "trusted": true,
        "id": "-MyyT3Lb3Bl5"
      },
      "execution_count": 14,
      "outputs": []
    },
    {
      "cell_type": "code",
      "source": [],
      "metadata": {
        "execution": {
          "iopub.status.busy": "2024-07-18T05:57:32.233191Z",
          "iopub.execute_input": "2024-07-18T05:57:32.233941Z",
          "iopub.status.idle": "2024-07-18T05:57:32.242904Z",
          "shell.execute_reply.started": "2024-07-18T05:57:32.23391Z",
          "shell.execute_reply": "2024-07-18T05:57:32.241928Z"
        },
        "trusted": true,
        "id": "CSqSpfg33Bl5"
      },
      "execution_count": null,
      "outputs": []
    },
    {
      "cell_type": "code",
      "source": [],
      "metadata": {
        "execution": {
          "iopub.status.busy": "2024-07-18T12:12:08.586935Z",
          "iopub.execute_input": "2024-07-18T12:12:08.587299Z",
          "iopub.status.idle": "2024-07-18T12:12:08.595646Z",
          "shell.execute_reply.started": "2024-07-18T12:12:08.587272Z",
          "shell.execute_reply": "2024-07-18T12:12:08.594728Z"
        },
        "trusted": true,
        "id": "ZM-EAgYC3Bl5"
      },
      "execution_count": null,
      "outputs": []
    },
    {
      "cell_type": "code",
      "source": [],
      "metadata": {
        "trusted": true,
        "id": "cPxYGfEr3Bl5"
      },
      "execution_count": null,
      "outputs": []
    },
    {
      "cell_type": "code",
      "source": [],
      "metadata": {
        "trusted": true,
        "id": "Fy7wpwi03Bl6"
      },
      "execution_count": null,
      "outputs": []
    },
    {
      "cell_type": "code",
      "source": [],
      "metadata": {
        "trusted": true,
        "id": "DMY06ZXg3Bl6"
      },
      "execution_count": null,
      "outputs": []
    },
    {
      "cell_type": "code",
      "source": [],
      "metadata": {
        "execution": {
          "iopub.status.busy": "2024-07-17T18:09:08.829541Z",
          "iopub.execute_input": "2024-07-17T18:09:08.829926Z",
          "iopub.status.idle": "2024-07-17T18:09:08.834823Z",
          "shell.execute_reply.started": "2024-07-17T18:09:08.829897Z",
          "shell.execute_reply": "2024-07-17T18:09:08.833544Z"
        },
        "trusted": true,
        "id": "MyD7B4W43Bl6"
      },
      "execution_count": null,
      "outputs": []
    },
    {
      "cell_type": "code",
      "source": [
        "def load_and_preprocess():\n",
        "    (x_train,y_train), (x_test,y_test) = tensorflow.keras.datasets.fashion_mnist.load_data()\n",
        "    x_train = x_train.astype('float32') / 255.0\n",
        "    x_train= numpy.expand_dims(x_train, axis=-1)\n",
        "    dataset = tensorflow.data.Dataset.from_tensor_slices(x_train).shuffle(60000).batch(batch_size, drop_remainder=True)\n",
        "    return dataset\n",
        "\n",
        "batch_size = 128\n",
        "dataset = load_and_preprocess()\n",
        "\n",
        "train_gan(gan, dataset,epochs=5,noise_size=128,batch_size=batch_size)"
      ],
      "metadata": {
        "execution": {
          "iopub.status.busy": "2024-07-18T16:56:46.229866Z",
          "iopub.execute_input": "2024-07-18T16:56:46.230263Z",
          "iopub.status.idle": "2024-07-18T16:56:49.505778Z",
          "shell.execute_reply.started": "2024-07-18T16:56:46.230233Z",
          "shell.execute_reply": "2024-07-18T16:56:49.504243Z"
        },
        "trusted": true,
        "colab": {
          "base_uri": "https://localhost:8080/"
        },
        "id": "NjEi-2nX3Bl6",
        "outputId": "0a44a647-c5ad-46c9-8dea-d2e36d35476f"
      },
      "execution_count": 17,
      "outputs": [
        {
          "metadata": {
            "tags": null
          },
          "name": "stdout",
          "output_type": "stream",
          "text": [
            "running 0 / 5\n"
          ]
        },
        {
          "metadata": {
            "tags": null
          },
          "name": "stderr",
          "output_type": "stream",
          "text": [
            "  0%|          | 1/468 [00:03<29:28,  3.79s/it]"
          ]
        },
        {
          "metadata": {
            "tags": null
          },
          "name": "stdout",
          "output_type": "stream",
          "text": [
            "step0 generator_loss1.1116001605987549 discriminator_loss1.1116001605987549\n"
          ]
        },
        {
          "metadata": {
            "tags": null
          },
          "name": "stderr",
          "output_type": "stream",
          "text": [
            " 22%|██▏       | 101/468 [01:05<03:42,  1.65it/s]"
          ]
        },
        {
          "metadata": {
            "tags": null
          },
          "name": "stdout",
          "output_type": "stream",
          "text": [
            "step100 generator_loss1.0138859441274255e-15 discriminator_loss1.0138859441274255e-15\n"
          ]
        },
        {
          "metadata": {
            "tags": null
          },
          "name": "stderr",
          "output_type": "stream",
          "text": [
            " 43%|████▎     | 201/468 [02:05<02:38,  1.69it/s]"
          ]
        },
        {
          "metadata": {
            "tags": null
          },
          "name": "stdout",
          "output_type": "stream",
          "text": [
            "step200 generator_loss2.4783358179537255e-16 discriminator_loss2.4783358179537255e-16\n"
          ]
        },
        {
          "metadata": {
            "tags": null
          },
          "name": "stderr",
          "output_type": "stream",
          "text": [
            " 64%|██████▍   | 301/468 [03:07<01:46,  1.57it/s]"
          ]
        },
        {
          "metadata": {
            "tags": null
          },
          "name": "stdout",
          "output_type": "stream",
          "text": [
            "step300 generator_loss1.1315301384133385e-16 discriminator_loss1.1315301384133385e-16\n"
          ]
        },
        {
          "output_type": "stream",
          "name": "stderr",
          "text": [
            " 86%|████████▌ | 401/468 [04:10<00:41,  1.60it/s]"
          ]
        },
        {
          "output_type": "stream",
          "name": "stdout",
          "text": [
            "step400 generator_loss5.030483013373477e-17 discriminator_loss5.030483013373477e-17\n"
          ]
        },
        {
          "output_type": "stream",
          "name": "stderr",
          "text": [
            "100%|██████████| 468/468 [04:52<00:00,  1.60it/s]\n"
          ]
        },
        {
          "output_type": "stream",
          "name": "stdout",
          "text": [
            "Epoch 1 completed: d_loss=0.00017375803145114332, g_loss=2.2959794182283273e-17\n",
            "running 1 / 5\n"
          ]
        },
        {
          "output_type": "stream",
          "name": "stderr",
          "text": [
            "  0%|          | 1/468 [00:00<05:09,  1.51it/s]"
          ]
        },
        {
          "output_type": "stream",
          "name": "stdout",
          "text": [
            "step0 generator_loss2.271829053064229e-17 discriminator_loss2.271829053064229e-17\n"
          ]
        },
        {
          "output_type": "stream",
          "name": "stderr",
          "text": [
            " 22%|██▏       | 101/468 [01:03<03:50,  1.60it/s]"
          ]
        },
        {
          "output_type": "stream",
          "name": "stdout",
          "text": [
            "step100 generator_loss9.38960010269156e-18 discriminator_loss9.38960010269156e-18\n"
          ]
        },
        {
          "output_type": "stream",
          "name": "stderr",
          "text": [
            " 43%|████▎     | 201/468 [02:06<02:46,  1.60it/s]"
          ]
        },
        {
          "output_type": "stream",
          "name": "stdout",
          "text": [
            "step200 generator_loss9.997918651330407e-18 discriminator_loss9.997918651330407e-18\n"
          ]
        },
        {
          "output_type": "stream",
          "name": "stderr",
          "text": [
            " 64%|██████▍   | 301/468 [03:10<01:45,  1.58it/s]"
          ]
        },
        {
          "output_type": "stream",
          "name": "stdout",
          "text": [
            "step300 generator_loss5.326808225547533e-18 discriminator_loss5.326808225547533e-18\n"
          ]
        },
        {
          "output_type": "stream",
          "name": "stderr",
          "text": [
            " 86%|████████▌ | 401/468 [04:13<00:43,  1.55it/s]"
          ]
        },
        {
          "output_type": "stream",
          "name": "stdout",
          "text": [
            "step400 generator_loss4.330897657284714e-18 discriminator_loss4.330897657284714e-18\n"
          ]
        },
        {
          "output_type": "stream",
          "name": "stderr",
          "text": [
            "100%|██████████| 468/468 [04:56<00:00,  1.58it/s]\n"
          ]
        },
        {
          "output_type": "stream",
          "name": "stdout",
          "text": [
            "Epoch 2 completed: d_loss=2.6368048369751484e-11, g_loss=1.766016959320607e-18\n",
            "running 2 / 5\n"
          ]
        },
        {
          "output_type": "stream",
          "name": "stderr",
          "text": [
            "  0%|          | 1/468 [00:00<05:23,  1.44it/s]"
          ]
        },
        {
          "output_type": "stream",
          "name": "stdout",
          "text": [
            "step0 generator_loss1.531484268894339e-18 discriminator_loss1.531484268894339e-18\n"
          ]
        },
        {
          "output_type": "stream",
          "name": "stderr",
          "text": [
            " 22%|██▏       | 101/468 [01:03<03:57,  1.54it/s]"
          ]
        },
        {
          "output_type": "stream",
          "name": "stdout",
          "text": [
            "step100 generator_loss2.4405413898269734e-18 discriminator_loss2.4405413898269734e-18\n"
          ]
        },
        {
          "output_type": "stream",
          "name": "stderr",
          "text": [
            " 43%|████▎     | 201/468 [02:06<02:42,  1.65it/s]"
          ]
        },
        {
          "output_type": "stream",
          "name": "stdout",
          "text": [
            "step200 generator_loss7.670541979950435e-19 discriminator_loss7.670541979950435e-19\n"
          ]
        },
        {
          "output_type": "stream",
          "name": "stderr",
          "text": [
            " 64%|██████▍   | 301/468 [03:09<01:44,  1.60it/s]"
          ]
        },
        {
          "output_type": "stream",
          "name": "stdout",
          "text": [
            "step300 generator_loss4.2487997746936727e-19 discriminator_loss4.2487997746936727e-19\n"
          ]
        },
        {
          "output_type": "stream",
          "name": "stderr",
          "text": [
            " 86%|████████▌ | 401/468 [04:10<00:40,  1.66it/s]"
          ]
        },
        {
          "output_type": "stream",
          "name": "stdout",
          "text": [
            "step400 generator_loss5.610290466094969e-19 discriminator_loss5.610290466094969e-19\n"
          ]
        },
        {
          "output_type": "stream",
          "name": "stderr",
          "text": [
            "100%|██████████| 468/468 [04:50<00:00,  1.61it/s]\n"
          ]
        },
        {
          "output_type": "stream",
          "name": "stdout",
          "text": [
            "Epoch 3 completed: d_loss=2.665638705861423e-13, g_loss=4.2928874673669833e-19\n",
            "running 3 / 5\n"
          ]
        },
        {
          "output_type": "stream",
          "name": "stderr",
          "text": [
            "  0%|          | 1/468 [00:00<05:17,  1.47it/s]"
          ]
        },
        {
          "output_type": "stream",
          "name": "stdout",
          "text": [
            "step0 generator_loss3.8267719676751765e-19 discriminator_loss3.8267719676751765e-19\n"
          ]
        },
        {
          "output_type": "stream",
          "name": "stderr",
          "text": [
            " 22%|██▏       | 101/468 [01:00<03:40,  1.66it/s]"
          ]
        },
        {
          "output_type": "stream",
          "name": "stdout",
          "text": [
            "step100 generator_loss2.793496203577265e-19 discriminator_loss2.793496203577265e-19\n"
          ]
        },
        {
          "output_type": "stream",
          "name": "stderr",
          "text": [
            " 43%|████▎     | 201/468 [01:59<02:36,  1.70it/s]"
          ]
        },
        {
          "output_type": "stream",
          "name": "stdout",
          "text": [
            "step200 generator_loss3.629539280911974e-19 discriminator_loss3.629539280911974e-19\n"
          ]
        },
        {
          "output_type": "stream",
          "name": "stderr",
          "text": [
            " 64%|██████▍   | 301/468 [02:57<01:37,  1.72it/s]"
          ]
        },
        {
          "output_type": "stream",
          "name": "stdout",
          "text": [
            "step300 generator_loss3.1409645351196454e-19 discriminator_loss3.1409645351196454e-19\n"
          ]
        },
        {
          "output_type": "stream",
          "name": "stderr",
          "text": [
            " 86%|████████▌ | 401/468 [03:56<00:39,  1.71it/s]"
          ]
        },
        {
          "output_type": "stream",
          "name": "stdout",
          "text": [
            "step400 generator_loss2.5575819664316686e-19 discriminator_loss2.5575819664316686e-19\n"
          ]
        },
        {
          "output_type": "stream",
          "name": "stderr",
          "text": [
            "100%|██████████| 468/468 [04:35<00:00,  1.70it/s]\n"
          ]
        },
        {
          "output_type": "stream",
          "name": "stdout",
          "text": [
            "Epoch 4 completed: d_loss=1.0510021672405223e-12, g_loss=2.247775426672769e-19\n",
            "running 4 / 5\n"
          ]
        },
        {
          "output_type": "stream",
          "name": "stderr",
          "text": [
            "  0%|          | 1/468 [00:00<05:11,  1.50it/s]"
          ]
        },
        {
          "output_type": "stream",
          "name": "stdout",
          "text": [
            "step0 generator_loss1.6200108699591716e-19 discriminator_loss1.6200108699591716e-19\n"
          ]
        },
        {
          "output_type": "stream",
          "name": "stderr",
          "text": [
            " 22%|██▏       | 101/468 [00:59<03:33,  1.72it/s]"
          ]
        },
        {
          "output_type": "stream",
          "name": "stdout",
          "text": [
            "step100 generator_loss1.9507720918325416e-19 discriminator_loss1.9507720918325416e-19\n"
          ]
        },
        {
          "output_type": "stream",
          "name": "stderr",
          "text": [
            " 43%|████▎     | 201/468 [01:57<02:35,  1.71it/s]"
          ]
        },
        {
          "output_type": "stream",
          "name": "stdout",
          "text": [
            "step200 generator_loss8.273512185543667e-20 discriminator_loss8.273512185543667e-20\n"
          ]
        },
        {
          "output_type": "stream",
          "name": "stderr",
          "text": [
            " 64%|██████▍   | 301/468 [02:56<01:37,  1.70it/s]"
          ]
        },
        {
          "output_type": "stream",
          "name": "stdout",
          "text": [
            "step300 generator_loss1.2128574505649982e-19 discriminator_loss1.2128574505649982e-19\n"
          ]
        },
        {
          "output_type": "stream",
          "name": "stderr",
          "text": [
            " 86%|████████▌ | 401/468 [03:54<00:38,  1.73it/s]"
          ]
        },
        {
          "output_type": "stream",
          "name": "stdout",
          "text": [
            "step400 generator_loss9.961849854310338e-20 discriminator_loss9.961849854310338e-20\n"
          ]
        },
        {
          "output_type": "stream",
          "name": "stderr",
          "text": [
            "100%|██████████| 468/468 [04:33<00:00,  1.71it/s]"
          ]
        },
        {
          "output_type": "stream",
          "name": "stdout",
          "text": [
            "Epoch 5 completed: d_loss=7.65392003249099e-12, g_loss=1.2462035567494542e-19\n"
          ]
        },
        {
          "output_type": "stream",
          "name": "stderr",
          "text": [
            "\n"
          ]
        }
      ]
    },
    {
      "cell_type": "code",
      "source": [],
      "metadata": {
        "execution": {
          "iopub.status.busy": "2024-07-18T12:19:28.618002Z",
          "iopub.execute_input": "2024-07-18T12:19:28.6186Z",
          "iopub.status.idle": "2024-07-18T12:19:28.626748Z",
          "shell.execute_reply.started": "2024-07-18T12:19:28.618568Z",
          "shell.execute_reply": "2024-07-18T12:19:28.625851Z"
        },
        "trusted": true,
        "id": "NFCd4JNi3Bl7"
      },
      "execution_count": null,
      "outputs": []
    },
    {
      "cell_type": "code",
      "source": [
        "import matplotlib.pyplot as plt"
      ],
      "metadata": {
        "id": "RSdy_6tzErpc"
      },
      "execution_count": 18,
      "outputs": []
    },
    {
      "cell_type": "code",
      "source": [
        "generated_images = generator.predict(tensorflow.random.normal([4,128]))"
      ],
      "metadata": {
        "colab": {
          "base_uri": "https://localhost:8080/"
        },
        "id": "O7SHaCzrHiHa",
        "outputId": "582c34e2-316a-4b82-bd01-b1d3eff13e28"
      },
      "execution_count": 26,
      "outputs": [
        {
          "output_type": "stream",
          "name": "stdout",
          "text": [
            "1/1 [==============================] - 0s 29ms/step\n"
          ]
        }
      ]
    },
    {
      "cell_type": "markdown",
      "source": [
        "**it is necessary to run the gan over 1000 epochs but we have only run it over 5 epochs but it started to learn pattern and tried to develop a image**"
      ],
      "metadata": {
        "id": "agvc-ra_SnqU"
      }
    },
    {
      "cell_type": "code",
      "source": [
        "dev,(harsh1,harsh2)=matplotlib.pyplot.subplots(nrows=1,ncols=2)\n",
        "harsh1.imshow(x_train[random.randint(0,60000)])\n",
        "harsh2.imshow(generated_images[2])\n",
        "harsh1.set_title('Original')\n",
        "harsh2.set_title('Generated')"
      ],
      "metadata": {
        "colab": {
          "base_uri": "https://localhost:8080/",
          "height": 326
        },
        "id": "flAEuM5BHwxQ",
        "outputId": "246623b5-3e6e-4bc2-965e-d07ea86c296f"
      },
      "execution_count": 60,
      "outputs": [
        {
          "output_type": "execute_result",
          "data": {
            "text/plain": [
              "Text(0.5, 1.0, 'Generated')"
            ]
          },
          "metadata": {},
          "execution_count": 60
        },
        {
          "output_type": "display_data",
          "data": {
            "text/plain": [
              "<Figure size 640x480 with 2 Axes>"
            ],
            "image/png": "[encoded data removed]"
          },
          "metadata": {}
        }
      ]
    },
    {
      "cell_type": "code",
      "source": [
        "from google.colab.patches import cv2_imshow\n",
        "import cv2"
      ],
      "metadata": {
        "id": "9x3F5-0l3Bl7"
      },
      "execution_count": 77,
      "outputs": []
    },
    {
      "cell_type": "code",
      "source": [
        "img1=cv2.imread('/content/before.png')\n",
        "img2=cv2.imread('/content/after.png')\n",
        "cv2_imshow(img1)\n",
        "cv2_imshow(img2)"
      ],
      "metadata": {
        "id": "y_jhj8jeVej6",
        "outputId": "ed812011-02a0-4674-b6bc-4b6fa6bdf1e1",
        "colab": {
          "base_uri": "https://localhost:8080/",
          "height": 910
        }
      },
      "execution_count": 79,
      "outputs": [
        {
          "output_type": "display_data",
          "data": {
            "text/plain": [
              "<PIL.Image.Image image mode=RGB size=555x542>"
            ],
            "image/png": "[encoded data removed]",
            "image/jpeg": "[encoded data removed]"
          },
          "metadata": {}
        },
        {
          "output_type": "display_data",
          "data": {
            "text/plain": [
              "<PIL.Image.Image image mode=RGB size=357x351>"
            ],
            "image/png": "[encoded data removed]",
            "image/jpeg": "[encoded data removed]"
          },
          "metadata": {}
        }
      ]
    },
    {
      "cell_type": "code",
      "source": [
        "import uuid\n",
        "print(uuid.uuid1())"
      ],
      "metadata": {
        "colab": {
          "base_uri": "https://localhost:8080/"
        },
        "id": "iW7IB64o3Bl7",
        "outputId": "ca80d4e0-3889-4504-d598-224ad2511af7"
      },
      "execution_count": 41,
      "outputs": [
        {
          "output_type": "stream",
          "name": "stdout",
          "text": [
            "09c677f2-4535-11ef-bc12-0242ac1c000c\n"
          ]
        }
      ]
    },
    {
      "cell_type": "code",
      "source": [],
      "metadata": {
        "id": "oe7oNrIr3Bl8"
      },
      "execution_count": null,
      "outputs": []
    }
  ]
}